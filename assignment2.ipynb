{
 "cells": [
  {
   "cell_type": "code",
   "execution_count": 13,
   "id": "098b2971-5d7a-4d7f-aec2-3400a31a72b0",
   "metadata": {},
   "outputs": [],
   "source": [
    "import numpy as np\n",
    "import pandas as pd\n",
    "import patsy as pt\n",
    "from sklearn import tree\n",
    "from sklearn.model_selection import train_test_split\n",
    "from sklearn.metrics import accuracy_score, f1_score"
   ]
  },
  {
   "cell_type": "code",
   "execution_count": 3,
   "id": "05c11537",
   "metadata": {},
   "outputs": [
    {
     "name": "stdout",
     "output_type": "stream",
     "text": [
      "<class 'pandas.core.frame.DataFrame'>\n",
      "RangeIndex: 14169 entries, 0 to 14168\n",
      "Data columns (total 84 columns):\n",
      " #   Column                                  Non-Null Count  Dtype  \n",
      "---  ------                                  --------------  -----  \n",
      " 0   id                                      14169 non-null  object \n",
      " 1   DateTime                                14169 non-null  object \n",
      " 2   Total                                   14169 non-null  float64\n",
      " 3   Discounts                               14169 non-null  float64\n",
      " 4   Brewed_Coffee_12_oz                     14169 non-null  int64  \n",
      " 5   Brewed_Coffee_16_oz                     14169 non-null  int64  \n",
      " 6   Aquafina_Water                          14169 non-null  int64  \n",
      " 7   Muffin_Pastry_Case                      14169 non-null  int64  \n",
      " 8   Extra_Syrup                             14169 non-null  int64  \n",
      " 9   Bottled_Soda_Mt_Dew                     14169 non-null  int64  \n",
      " 10  Bottled_Soda_Diet_Pepsi                 14169 non-null  int64  \n",
      " 11  Latte_16_oz                             14169 non-null  int64  \n",
      " 12  Latte_12_oz                             14169 non-null  int64  \n",
      " 13  Original                                14169 non-null  int64  \n",
      " 14  String_Cheese                           14169 non-null  int64  \n",
      " 15  Soda_Fountain_24_oz                     14169 non-null  int64  \n",
      " 16  Starbucks_DS_Vanilla                    14169 non-null  int64  \n",
      " 17  Bottled_Soda_Wild_Cherry                14169 non-null  int64  \n",
      " 18  Gatorade_Glacier_Freeze                 14169 non-null  int64  \n",
      " 19  TeaSmith_Tea_16_oz                      14169 non-null  int64  \n",
      " 20  Iced                                    14169 non-null  int64  \n",
      " 21  Bottled_Soda_Diet_Mt_Dew                14169 non-null  int64  \n",
      " 22  Candy_Snickers                          14169 non-null  int64  \n",
      " 23  Tea_Unsweetened                         14169 non-null  int64  \n",
      " 24  Bottled_Soda_Code_Red                   14169 non-null  int64  \n",
      " 25  Chips_Kettle_Jalapeo                    14169 non-null  int64  \n",
      " 26  Chex_Mix_Traditional                    14169 non-null  int64  \n",
      " 27  Rockstar_Zero_Punched                   14169 non-null  int64  \n",
      " 28  Ocean_Spray_Apple                       14169 non-null  int64  \n",
      " 29  Americano_16_oz                         14169 non-null  int64  \n",
      " 30  TeaSmith_Tea_12_oz                      14169 non-null  int64  \n",
      " 31  Tea_Half_and_Half                       14169 non-null  int64  \n",
      " 32  Chips_Kettle_Sea_Salt                   14169 non-null  int64  \n",
      " 33  Mocha_16_oz                             14169 non-null  int64  \n",
      " 34  Nuts_Cashews                            14169 non-null  int64  \n",
      " 35  Chips_Kettle_BBQ                        14169 non-null  int64  \n",
      " 36  Tea_Sweetened                           14169 non-null  int64  \n",
      " 37  Gatorade_Orange                         14169 non-null  int64  \n",
      " 38  Chex_Mix_Cheddar                        14169 non-null  int64  \n",
      " 39  Candy_KitKat                            14169 non-null  int64  \n",
      " 40  Parfait_Strawberry                      14169 non-null  int64  \n",
      " 41  Gatorade_Cool_Blue                      14169 non-null  int64  \n",
      " 42  Cheez_It_Original                       14169 non-null  int64  \n",
      " 43  Bottled_Soda_Pepsi                      14169 non-null  int64  \n",
      " 44  Nuts_Hot_n_Spicy_Peanuts                14169 non-null  int64  \n",
      " 45  Candy_Peanut_Butter_MM's                14169 non-null  int64  \n",
      " 46  Ocean_Spray_Orange                      14169 non-null  int64  \n",
      " 47  Kickstart_Raspberry                     14169 non-null  int64  \n",
      " 48  Kickstart_Orange                        14169 non-null  int64  \n",
      " 49  Candy_Reeses                            14169 non-null  int64  \n",
      " 50  Extra_Espresso                          14169 non-null  int64  \n",
      " 51  Clif_Bar_White_Chocolate_Macadamia_Nut  14169 non-null  int64  \n",
      " 52  Candy_Twix                              14169 non-null  int64  \n",
      " 53  Western's_Jerky_Beef                    14169 non-null  int64  \n",
      " 54  Pringles_Original                       14169 non-null  int64  \n",
      " 55  Nuts_Salted_Peanuts                     14169 non-null  int64  \n",
      " 56  Pringles_Sour_Cream_Onion               14169 non-null  int64  \n",
      " 57  Chocolate_Muscle_Milk                   14169 non-null  int64  \n",
      " 58  Kickstart_Pineapple_Orange_Mango        14169 non-null  int64  \n",
      " 59  MM                                      14169 non-null  int64  \n",
      " 60  Turtle_16_oz                            14169 non-null  int64  \n",
      " 61  Kickstart_Grape                         14169 non-null  int64  \n",
      " 62  Parfait_Blueberry                       14169 non-null  int64  \n",
      " 63  Moroccan_Mint                           14169 non-null  int64  \n",
      " 64  SoBe_Life_Acai                          14169 non-null  int64  \n",
      " 65  White_Mocha_16_oz                       14169 non-null  int64  \n",
      " 66  Gum_Spearmint                           14169 non-null  int64  \n",
      " 67  Kickstart_Mango_Lime                    14169 non-null  int64  \n",
      " 68  Clif_Bar_Brownie_Bar                    14169 non-null  int64  \n",
      " 69  Cheez_It_White_Cheddar                  14169 non-null  int64  \n",
      " 70  Starbucks_Mocha_Frap                    14169 non-null  int64  \n",
      " 71  Gatorade_Fruit_Punch                    14169 non-null  int64  \n",
      " 72  Hot_Chocolate_12_oz                     14169 non-null  int64  \n",
      " 73  Cup                                     14169 non-null  int64  \n",
      " 74  Sweet_Pomegranate                       14169 non-null  int64  \n",
      " 75  Gatorade_Grape                          14169 non-null  int64  \n",
      " 76  White_Mocha_12_oz                       14169 non-null  int64  \n",
      " 77  Whipped_Topping                         14169 non-null  int64  \n",
      " 78  Starbucks_DS_Mocha                      14169 non-null  int64  \n",
      " 79  Hot_Chocolate_16_oz                     14169 non-null  int64  \n",
      " 80  Dr_Pepper                               14169 non-null  int64  \n",
      " 81  Ocean_Spray_CranGrape                   14169 non-null  int64  \n",
      " 82  Gum_Peppermint                          14169 non-null  int64  \n",
      " 83  meal                                    14169 non-null  int64  \n",
      "dtypes: float64(2), int64(80), object(2)\n",
      "memory usage: 9.1+ MB\n"
     ]
    }
   ],
   "source": [
    "data = pd.read_csv(\"https://github.com/dustywhite7/Econ8310/raw/master/AssignmentData/assignment3.csv\")\n",
    "data.info()"
   ]
  },
  {
   "cell_type": "code",
   "execution_count": null,
   "id": "0a1960c6",
   "metadata": {},
   "outputs": [],
   "source": [
    "Y = data['meal']\n",
    "X = data.drop(['id', 'DateTime', 'meal'], axis=1)\n",
    "x_train, x_test, y_train, y_test = train_test_split(X,Y, test_size=0.7, random_state=21)\n"
   ]
  },
  {
   "cell_type": "code",
   "execution_count": null,
   "id": "75a19526",
   "metadata": {},
   "outputs": [],
   "source": [
    "model = tree.DecisionTreeClassifier()\n",
    "modelFit = model.fit(x_train, y_train)"
   ]
  },
  {
   "cell_type": "code",
   "execution_count": 14,
   "id": "76febee9",
   "metadata": {},
   "outputs": [
    {
     "name": "stdout",
     "output_type": "stream",
     "text": [
      "train accuracy: 0.9663529411764706\n",
      "\n",
      "test accuracy: 0.8588567395906845\n"
     ]
    }
   ],
   "source": [
    "print(f\"train accuracy: {accuracy_score(y_train,modelFit.predict(x_train))}\")\n",
    "print(f\"\\ntest accuracy: {accuracy_score(y_test,modelFit.predict(x_test))}\")\n"
   ]
  },
  {
   "cell_type": "code",
   "execution_count": 27,
   "id": "cb8d6b69",
   "metadata": {},
   "outputs": [],
   "source": [
    "test_data = pd.read_csv(\"https://github.com/dustywhite7/Econ8310/raw/master/AssignmentData/assignment3test.csv\").drop(['id', 'DateTime', 'meal'], axis=1)"
   ]
  },
  {
   "cell_type": "code",
   "execution_count": 21,
   "id": "cea38bb1",
   "metadata": {},
   "outputs": [],
   "source": [
    "pred = modelFit.predict(x_test)"
   ]
  },
  {
   "cell_type": "code",
   "execution_count": 28,
   "id": "038395ad",
   "metadata": {},
   "outputs": [
    {
     "name": "stdout",
     "output_type": "stream",
     "text": [
      "<class 'pandas.core.frame.DataFrame'>\n",
      "RangeIndex: 1000 entries, 0 to 999\n",
      "Data columns (total 81 columns):\n",
      " #   Column                                  Non-Null Count  Dtype  \n",
      "---  ------                                  --------------  -----  \n",
      " 0   Total                                   1000 non-null   float64\n",
      " 1   Discounts                               1000 non-null   float64\n",
      " 2   Brewed_Coffee_12_oz                     1000 non-null   int64  \n",
      " 3   Brewed_Coffee_16_oz                     1000 non-null   int64  \n",
      " 4   Aquafina_Water                          1000 non-null   int64  \n",
      " 5   Muffin_Pastry_Case                      1000 non-null   int64  \n",
      " 6   Extra_Syrup                             1000 non-null   int64  \n",
      " 7   Bottled_Soda_Mt_Dew                     1000 non-null   int64  \n",
      " 8   Bottled_Soda_Diet_Pepsi                 1000 non-null   int64  \n",
      " 9   Latte_16_oz                             1000 non-null   int64  \n",
      " 10  Latte_12_oz                             1000 non-null   int64  \n",
      " 11  Original                                1000 non-null   int64  \n",
      " 12  String_Cheese                           1000 non-null   int64  \n",
      " 13  Soda_Fountain_24_oz                     1000 non-null   int64  \n",
      " 14  Starbucks_DS_Vanilla                    1000 non-null   int64  \n",
      " 15  Bottled_Soda_Wild_Cherry                1000 non-null   int64  \n",
      " 16  Gatorade_Glacier_Freeze                 1000 non-null   int64  \n",
      " 17  TeaSmith_Tea_16_oz                      1000 non-null   int64  \n",
      " 18  Iced                                    1000 non-null   int64  \n",
      " 19  Bottled_Soda_Diet_Mt_Dew                1000 non-null   int64  \n",
      " 20  Candy_Snickers                          1000 non-null   int64  \n",
      " 21  Tea_Unsweetened                         1000 non-null   int64  \n",
      " 22  Bottled_Soda_Code_Red                   1000 non-null   int64  \n",
      " 23  Chips_Kettle_Jalapeo                    1000 non-null   int64  \n",
      " 24  Chex_Mix_Traditional                    1000 non-null   int64  \n",
      " 25  Rockstar_Zero_Punched                   1000 non-null   int64  \n",
      " 26  Ocean_Spray_Apple                       1000 non-null   int64  \n",
      " 27  Americano_16_oz                         1000 non-null   int64  \n",
      " 28  TeaSmith_Tea_12_oz                      1000 non-null   int64  \n",
      " 29  Tea_Half_and_Half                       1000 non-null   int64  \n",
      " 30  Chips_Kettle_Sea_Salt                   1000 non-null   int64  \n",
      " 31  Mocha_16_oz                             1000 non-null   int64  \n",
      " 32  Nuts_Cashews                            1000 non-null   int64  \n",
      " 33  Chips_Kettle_BBQ                        1000 non-null   int64  \n",
      " 34  Tea_Sweetened                           1000 non-null   int64  \n",
      " 35  Gatorade_Orange                         1000 non-null   int64  \n",
      " 36  Chex_Mix_Cheddar                        1000 non-null   int64  \n",
      " 37  Candy_KitKat                            1000 non-null   int64  \n",
      " 38  Parfait_Strawberry                      1000 non-null   int64  \n",
      " 39  Gatorade_Cool_Blue                      1000 non-null   int64  \n",
      " 40  Cheez_It_Original                       1000 non-null   int64  \n",
      " 41  Bottled_Soda_Pepsi                      1000 non-null   int64  \n",
      " 42  Nuts_Hot_n_Spicy_Peanuts                1000 non-null   int64  \n",
      " 43  Candy_Peanut_Butter_MM's                1000 non-null   int64  \n",
      " 44  Ocean_Spray_Orange                      1000 non-null   int64  \n",
      " 45  Kickstart_Raspberry                     1000 non-null   int64  \n",
      " 46  Kickstart_Orange                        1000 non-null   int64  \n",
      " 47  Candy_Reeses                            1000 non-null   int64  \n",
      " 48  Extra_Espresso                          1000 non-null   int64  \n",
      " 49  Clif_Bar_White_Chocolate_Macadamia_Nut  1000 non-null   int64  \n",
      " 50  Candy_Twix                              1000 non-null   int64  \n",
      " 51  Western's_Jerky_Beef                    1000 non-null   int64  \n",
      " 52  Pringles_Original                       1000 non-null   int64  \n",
      " 53  Nuts_Salted_Peanuts                     1000 non-null   int64  \n",
      " 54  Pringles_Sour_Cream_Onion               1000 non-null   int64  \n",
      " 55  Chocolate_Muscle_Milk                   1000 non-null   int64  \n",
      " 56  Kickstart_Pineapple_Orange_Mango        1000 non-null   int64  \n",
      " 57  MM                                      1000 non-null   int64  \n",
      " 58  Turtle_16_oz                            1000 non-null   int64  \n",
      " 59  Kickstart_Grape                         1000 non-null   int64  \n",
      " 60  Parfait_Blueberry                       1000 non-null   int64  \n",
      " 61  Moroccan_Mint                           1000 non-null   int64  \n",
      " 62  SoBe_Life_Acai                          1000 non-null   int64  \n",
      " 63  White_Mocha_16_oz                       1000 non-null   int64  \n",
      " 64  Gum_Spearmint                           1000 non-null   int64  \n",
      " 65  Kickstart_Mango_Lime                    1000 non-null   int64  \n",
      " 66  Clif_Bar_Brownie_Bar                    1000 non-null   int64  \n",
      " 67  Cheez_It_White_Cheddar                  1000 non-null   int64  \n",
      " 68  Starbucks_Mocha_Frap                    1000 non-null   int64  \n",
      " 69  Gatorade_Fruit_Punch                    1000 non-null   int64  \n",
      " 70  Hot_Chocolate_12_oz                     1000 non-null   int64  \n",
      " 71  Cup                                     1000 non-null   int64  \n",
      " 72  Sweet_Pomegranate                       1000 non-null   int64  \n",
      " 73  Gatorade_Grape                          1000 non-null   int64  \n",
      " 74  White_Mocha_12_oz                       1000 non-null   int64  \n",
      " 75  Whipped_Topping                         1000 non-null   int64  \n",
      " 76  Starbucks_DS_Mocha                      1000 non-null   int64  \n",
      " 77  Hot_Chocolate_16_oz                     1000 non-null   int64  \n",
      " 78  Dr_Pepper                               1000 non-null   int64  \n",
      " 79  Ocean_Spray_CranGrape                   1000 non-null   int64  \n",
      " 80  Gum_Peppermint                          1000 non-null   int64  \n",
      "dtypes: float64(2), int64(79)\n",
      "memory usage: 632.9 KB\n"
     ]
    }
   ],
   "source": [
    "test_data.info()"
   ]
  },
  {
   "cell_type": "code",
   "execution_count": 29,
   "id": "74ec4a3f",
   "metadata": {},
   "outputs": [
    {
     "data": {
      "text/plain": [
       "dtype('int64')"
      ]
     },
     "execution_count": 29,
     "metadata": {},
     "output_type": "execute_result"
    }
   ],
   "source": [
    "pred.dtype"
   ]
  },
  {
   "cell_type": "code",
   "execution_count": 30,
   "id": "ad089b3d",
   "metadata": {},
   "outputs": [
    {
     "data": {
      "text/plain": [
       "array([0, 1, 0, ..., 0, 0, 0], shape=(9919,))"
      ]
     },
     "execution_count": 30,
     "metadata": {},
     "output_type": "execute_result"
    }
   ],
   "source": [
    "pred"
   ]
  },
  {
   "cell_type": "code",
   "execution_count": 32,
   "id": "5af844e9",
   "metadata": {},
   "outputs": [
    {
     "data": {
      "text/plain": [
       "int"
      ]
     },
     "execution_count": 32,
     "metadata": {},
     "output_type": "execute_result"
    }
   ],
   "source": [
    "type(pred.tolist()[0])"
   ]
  },
  {
   "cell_type": "code",
   "execution_count": null,
   "id": "e4415bb2",
   "metadata": {},
   "outputs": [],
   "source": []
  }
 ],
 "metadata": {
  "kernelspec": {
   "display_name": "Python 3",
   "language": "python",
   "name": "python3"
  },
  "language_info": {
   "codemirror_mode": {
    "name": "ipython",
    "version": 3
   },
   "file_extension": ".py",
   "mimetype": "text/x-python",
   "name": "python",
   "nbconvert_exporter": "python",
   "pygments_lexer": "ipython3",
   "version": "3.13.1"
  }
 },
 "nbformat": 4,
 "nbformat_minor": 5
}
